{
 "cells": [
  {
   "cell_type": "code",
   "execution_count": 1,
   "id": "fa694986",
   "metadata": {},
   "outputs": [],
   "source": [
    "import sys\n",
    "from heapq import heapify, heappush , heappop"
   ]
  },
  {
   "cell_type": "code",
   "execution_count": 2,
   "id": "b26bfa09",
   "metadata": {},
   "outputs": [
    {
     "name": "stdout",
     "output_type": "stream",
     "text": [
      "9223372036854775807\n"
     ]
    }
   ],
   "source": [
    "#Function to check infinity\n",
    "def inf():\n",
    "    inf = sys.maxsize\n",
    "    print(inf)\n",
    "inf()"
   ]
  },
  {
   "cell_type": "code",
   "execution_count": 3,
   "id": "4ce170d4",
   "metadata": {},
   "outputs": [],
   "source": [
    "#Build bistra algo\n",
    "def bistra(graph1,src,des):\n",
    "    inf = sys.maxsize\n",
    "    node_data = {'A':{'cost' : inf, 'pred':[]},\n",
    "                 'B':{'cost' : inf, 'pred':[]},\n",
    "                 'C':{'cost' : inf, 'pred':[]},\n",
    "                 'D':{'cost' : inf , 'pred':[]},\n",
    "                 'E':{'cost' : inf , 'pred':[]},\n",
    "                 'F':{'cost' : inf , 'pred':[]},\n",
    "                 'G':{'cost' : inf , 'pred':[]},\n",
    "                }\n",
    "    node_data[src]['cost'] = 0\n",
    "    visited = []\n",
    "    temp = src\n",
    "    for i in range(5):\n",
    "        if temp not in visited:\n",
    "            visited.append(temp)\n",
    "            min_heap = []\n",
    "            for j in graph[temp]:\n",
    "                if j not in visited:\n",
    "                    cost = node_data[temp]['cost'] + graph[temp][j]\n",
    "                    if cost < node_data[j]['cost']:\n",
    "                        node_data[j]['cost'] = cost\n",
    "                        node_data[j]['pred'] = node_data[temp]['pred'] + list(temp)\n",
    "                    heappush(min_heap, (node_data[j]['cost'], j))\n",
    "                        \n",
    "            heapify(min_heap)\n",
    "            temp = min_heap[0][1]\n",
    "    print(\"Shortes distance : \" + str(node_data[des]['cost']))\n",
    "    print(\"Shortest Path \" + str(node_data[des]['pred'] + list(des)))\n",
    "        \n",
    "            "
   ]
  },
  {
   "cell_type": "code",
   "execution_count": 4,
   "id": "84bb6fd2",
   "metadata": {},
   "outputs": [],
   "source": [
    "graph1 = {\n",
    "        'A' : {'B':1,'D':8},\n",
    "        'B' : {'A':1,'C': 5,'G':4},\n",
    "        'C' : {'B':5,'D':2,'F':15},\n",
    "        'D': {'A':8,'C':2,'E':11},\n",
    "        'E': {'D':11,'F':3},\n",
    "        'F': {'C':15,'G':13},\n",
    "        'G': {'F':13,'B':4}\n",
    "    }"
   ]
  },
  {
   "cell_type": "code",
   "execution_count": 5,
   "id": "3f7a7d97",
   "metadata": {},
   "outputs": [],
   "source": [
    "graph2 = {\n",
    "        'A' : {'B':2,'C':4},\n",
    "        'B' : {'A':2,'C': 3,'D':8},\n",
    "        'C' : {'A':4,'B':3,'E':5,'D':2},\n",
    "        'D': {'B':8,'C':2,'E':11,'F':22},\n",
    "        'E': {'C':5,'D':11,'F':1},\n",
    "        'F': {'D':22,'E':1},\n",
    "    }"
   ]
  },
  {
   "cell_type": "code",
   "execution_count": 6,
   "id": "f7acf634",
   "metadata": {},
   "outputs": [],
   "source": [
    "graph = graph1.copy()"
   ]
  },
  {
   "cell_type": "code",
   "execution_count": 7,
   "id": "bbe39379",
   "metadata": {},
   "outputs": [
    {
     "name": "stdout",
     "output_type": "stream",
     "text": [
      "Shortes distance : 5\n",
      "Shortest Path ['A', 'B', 'G']\n"
     ]
    }
   ],
   "source": [
    "source = 'A'\n",
    "destination = 'G'\n",
    "bistra(graph,source,destination)"
   ]
  },
  {
   "cell_type": "code",
   "execution_count": null,
   "id": "2ece7909",
   "metadata": {},
   "outputs": [],
   "source": []
  },
  {
   "cell_type": "code",
   "execution_count": null,
   "id": "0d73a708",
   "metadata": {},
   "outputs": [],
   "source": []
  }
 ],
 "metadata": {
  "kernelspec": {
   "display_name": "Python 3",
   "language": "python",
   "name": "python3"
  },
  "language_info": {
   "codemirror_mode": {
    "name": "ipython",
    "version": 3
   },
   "file_extension": ".py",
   "mimetype": "text/x-python",
   "name": "python",
   "nbconvert_exporter": "python",
   "pygments_lexer": "ipython3",
   "version": "3.8.8"
  }
 },
 "nbformat": 4,
 "nbformat_minor": 5
}
